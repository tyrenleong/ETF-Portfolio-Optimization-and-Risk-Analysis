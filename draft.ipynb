{
 "cells": [
  {
   "cell_type": "code",
   "execution_count": 2,
   "metadata": {},
   "outputs": [],
   "source": [
    "import yfinance as yf\n",
    "import pandas as pd\n",
    "import pandas as pd\n",
    "import numpy as np\n",
    "from scipy.optimize import minimize\n",
    "import matplotlib.pyplot as plt\n",
    "from datetime import date\n",
    "from dateutil.relativedelta import relativedelta"
   ]
  },
  {
   "cell_type": "code",
   "execution_count": 3,
   "metadata": {},
   "outputs": [],
   "source": [
    "\n",
    "# Download data function\n",
    "def download_data(ticker_symbols, start_date,  end_date):\n",
    "        data = {}\n",
    "        for symbol in ticker_symbols:\n",
    "                symbol_data = yf.download(symbol, start=start_date, end=end_date)\n",
    "                data[symbol] = symbol_data['Adj Close']\n",
    "        symbol_prices = pd.DataFrame(data)\n",
    "        return symbol_prices\n"
   ]
  },
  {
   "cell_type": "code",
   "execution_count": 4,
   "metadata": {},
   "outputs": [],
   "source": [
    "# returns annualized return percentage\n",
    "def calculate_annualized_returns(ticker_data):\n",
    "    daily_returns = ticker_data.pct_change().dropna()\n",
    "    annualized_returns = daily_returns.mean() * 252  # 252 trading days in a year\n",
    "    return annualized_returns"
   ]
  },
  {
   "cell_type": "code",
   "execution_count": 5,
   "metadata": {},
   "outputs": [],
   "source": [
    "# returns covariance matrix\n",
    "def calculate_annualized_covariance(ticker_data):\n",
    "    daily_returns = ticker_data.pct_change().dropna()\n",
    "    annualized_covariance = daily_returns.cov() * 252\n",
    "    return annualized_covariance"
   ]
  },
  {
   "cell_type": "code",
   "execution_count": 6,
   "metadata": {},
   "outputs": [],
   "source": [
    "# returns a portfolio's returns and standard deviation given a specific weight\n",
    "def portfolio_performance(weights, returns, covariance_matrix):\n",
    "    # return = sum of weights*returns\n",
    "    portfolio_return = np.sum(returns * weights)\n",
    "    # standard deviations = sqrt(variance) = sqrt(weights.T * covariance * weights) \n",
    "    portfolio_std_dev = np.sqrt(np.dot(weights.T, np.dot(covariance_matrix, weights)))\n",
    "    return portfolio_return, portfolio_std_dev\n",
    "\n"
   ]
  },
  {
   "cell_type": "code",
   "execution_count": 7,
   "metadata": {},
   "outputs": [],
   "source": [
    "# function that optimizese a portfolio given a target return percent\n",
    "def optimize_portfolio(returns, covariance_matrix, target_return):\n",
    "    num_tickers = len(returns)\n",
    "    args = (returns, covariance_matrix)\n",
    "    constraints = [{# Weights sum to 1\n",
    "                    'type': 'eq', 'fun': lambda x: np.sum(x) - 1},\n",
    "                   # Return matches target return\n",
    "                   {'type': 'eq', 'fun': lambda x: portfolio_performance(x, returns, covariance_matrix)[0] - target_return}]  \n",
    "    bounds = tuple((0, 1) for i in range(num_tickers))  # Weight bounds (0 to 1)\n",
    "\n",
    "    # Initial guess for equal weights\n",
    "    initial_weights = num_tickers * [1. / num_tickers]\n",
    "    def vol_function(weights):\n",
    "          return portfolio_performance(weights, returns, covariance_matrix)[1]\n",
    "\n",
    "    result = minimize(vol_function, initial_weights, method='SLSQP', bounds=bounds, constraints=constraints)\n",
    "    return result"
   ]
  },
  {
   "cell_type": "code",
   "execution_count": 9,
   "metadata": {},
   "outputs": [
    {
     "name": "stderr",
     "output_type": "stream",
     "text": [
      "[*********************100%***********************]  1 of 1 completed\n",
      "[*********************100%***********************]  1 of 1 completed\n",
      "[*********************100%***********************]  1 of 1 completed\n",
      "[*********************100%***********************]  1 of 1 completed\n",
      "[*********************100%***********************]  1 of 1 completed\n"
     ]
    },
    {
     "name": "stdout",
     "output_type": "stream",
     "text": [
      "Optimized Portfolio Weights (Min Volatility):\n",
      "NVDA: 0.5656\n",
      "NIO: 0.0000\n",
      "TSLA: 0.2947\n",
      "INND: 0.1396\n",
      "INTC: 0.0000\n",
      "Sum of Optimized Weights: 1.0000\n",
      "\n",
      "Comparison of Optimized vs Equal Weights Portfolio:\n",
      "Optimized Portfolio - Return: 1.0161, Volatility: 0.6516\n",
      "Equal Weights Portfolio - Return: 1.0161, Volatility: 0.7813\n"
     ]
    }
   ],
   "source": [
    "def main():\n",
    "        #pre-defined list of stocks\n",
    "        # *********************************************\n",
    "        # CAN CHANGE TO DIFFERENT TICKER SYMBOLS\n",
    "        # *********************************************\n",
    "        stocks = ['NVDA', 'NIO', 'TSLA', 'INND', 'INTC']\n",
    "\n",
    "        # calculate the today's date and the date exactly 10 years in the past\n",
    "        present_date = date.today()\n",
    "        past_date = present_date - relativedelta(years=10)\n",
    "        present_date = present_date.strftime('%Y-%m-%d')\n",
    "        past_date = past_date.strftime('%Y-%m-%d')\n",
    "\n",
    "        # download the etf data from dates above\n",
    "        etf_data = download_data(stocks, past_date, present_date)\n",
    "        prices = pd.DataFrame(etf_data)\n",
    "\n",
    "        # calculate annualized returns and covariance\n",
    "        annualized_returns = calculate_annualized_returns(prices)\n",
    "        annualized_covariance = calculate_annualized_covariance(prices)\n",
    "\n",
    "        \n",
    "        # prompt user for target return\n",
    "        target_return = float(input(\"Enter your target annual return percentage (as a decimal, e.g., 0.05 for 5%): \"))\n",
    "\n",
    "        # optimize the portfolio for minimum volatility at the target return\n",
    "        optimized_portfolio = optimize_portfolio(annualized_returns, annualized_covariance, target_return)\n",
    "\n",
    "        # display the optimized portfolio weights\n",
    "        optimized_weights = optimized_portfolio.x\n",
    "        print(\"Optimized Portfolio Weights (Min Volatility):\")\n",
    "        for etf, weight in zip(stocks, optimized_weights):\n",
    "            print(f\"{etf}: {weight:.4f}\")\n",
    "\n",
    "        # calculate and display the sum of the optimized weights\n",
    "        weights_sum = np.sum(optimized_weights)\n",
    "        print(f\"Sum of Optimized Weights: {weights_sum:.4f}\")\n",
    "\n",
    "        # equal weights for comparison\n",
    "        equal_weights = np.array([1 / len(stocks)] * len(stocks))  # equal weights for all stocks\n",
    "\n",
    "        # performance of the optimized portfolio\n",
    "        opt_return, opt_std_dev = portfolio_performance(optimized_weights, annualized_returns, annualized_covariance)\n",
    "\n",
    "        # performance of the equally weighted portfolio\n",
    "        eq_return, eq_std_dev = portfolio_performance(equal_weights, annualized_returns, annualized_covariance)\n",
    "\n",
    "        # Print the comparison between optimized and equal weights portfolios\n",
    "        print(\"\\nComparison of Optimized vs Equal Weights Portfolio:\")\n",
    "        print(f\"Optimized Portfolio - Return: {opt_return:.4f}, Volatility: {opt_std_dev:.4f}\")\n",
    "        print(f\"Equal Weights Portfolio - Return: {eq_return:.4f}, Volatility: {eq_std_dev:.4f}\")\n",
    "\n",
    "\n",
    "     \n",
    "        \n",
    "    \n",
    "# risk = weights*covariance matrix * weights.T\n",
    "# returns = returns vector * weights.T or by dot product\n",
    "\n",
    "if __name__ == \"__main__\":\n",
    "    main()\n"
   ]
  },
  {
   "cell_type": "code",
   "execution_count": null,
   "metadata": {},
   "outputs": [],
   "source": []
  }
 ],
 "metadata": {
  "kernelspec": {
   "display_name": "Python 3",
   "language": "python",
   "name": "python3"
  },
  "language_info": {
   "codemirror_mode": {
    "name": "ipython",
    "version": 3
   },
   "file_extension": ".py",
   "mimetype": "text/x-python",
   "name": "python",
   "nbconvert_exporter": "python",
   "pygments_lexer": "ipython3",
   "version": "3.11.7"
  }
 },
 "nbformat": 4,
 "nbformat_minor": 2
}
