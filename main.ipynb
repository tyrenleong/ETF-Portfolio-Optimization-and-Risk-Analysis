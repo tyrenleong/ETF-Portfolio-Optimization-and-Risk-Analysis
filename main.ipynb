{
 "cells": [
  {
   "cell_type": "code",
   "execution_count": null,
   "metadata": {},
   "outputs": [],
   "source": [
    "import yfinance as yf\n",
    "import pandas as pd\n",
    "import pandas as pd\n",
    "import numpy as np\n",
    "from scipy.optimize import minimize\n",
    "import matplotlib.pyplot as plt\n",
    "from datetime import date\n",
    "from dateutil.relativedelta import relativedelta"
   ]
  },
  {
   "cell_type": "code",
   "execution_count": null,
   "metadata": {},
   "outputs": [],
   "source": [
    "\n",
    "import yfinance as yf\n",
    "import numpy as np\n",
    "import pandas as pd\n",
    "from scipy.optimize import minimize\n",
    "import matplotlib.pyplot as plt\n",
    "\n",
    "# Download data function\n",
    "def download_data(ticker_symbols, start_date,  end_date):\n",
    "        data = {}\n",
    "        for symbol in ticker_symbols:\n",
    "                symbol_data = yf.download(symbol, start=start_date, end=end_date)\n",
    "                data[symbol] = symbol_data['Adj Close']\n",
    "        symbol_prices = pd.DataFrame(data)\n",
    "        return symbol_prices\n",
    "\n",
    "def calculate_annualized_returns(etf_data):\n",
    "    daily_returns = etf_data.pct_change().dropna()\n",
    "    annualized_returns = daily_returns.mean() * 252  # 252 trading days in a year\n",
    "    return annualized_returns\n",
    "\n",
    "def main():\n",
    "    # Step 1: Get ETF Symbols and Download Data\n",
    "    # pre-defined list of top 50 ETFs symbols by AUM\n",
    "        etfs = ['SPY', 'VOO', 'SCHD', 'VTI', 'QQQ']\n",
    "        present_date = date.today()\n",
    "        past_date = present_date - relativedelta(years=10)\n",
    "        present_date = present_date.strftime('%Y-%m-%d')\n",
    "        past_date = past_date.strftime('%Y-%m-%d')\n",
    "        etf_data = download_data(etfs, past_date, present_date)\n",
    "        \n",
    "        prices = pd.DataFrame(etf_data)\n",
    "        annual_returns = calculate_annualized_returns(prices).sort_values(ascending=False)\n",
    "        print(annual_returns)\n",
    "    \n",
    "\n",
    "\n",
    "if __name__ == \"__main__\":\n",
    "    main()\n"
   ]
  },
  {
   "cell_type": "code",
   "execution_count": null,
   "metadata": {},
   "outputs": [],
   "source": [
    "# testing with personal ticker symbols\n",
    "voo_data = yf.download('VOO', start=past_date, end=present_date)\n",
    "schd_data = yf.download('SCHD', start=past_date, end=present_date)\n",
    "data={}\n",
    "data['VOO'] = voo_data['Adj Close']\n",
    "data['SCHD'] = schd_data['Adj Close']\n",
    "prices = pd.DataFrame(data)\n",
    "prices.plot()\n",
    "plt.title(\"ETF Prices\")\n",
    "plt.legend()\n",
    "plt.show()"
   ]
  },
  {
   "cell_type": "code",
   "execution_count": null,
   "metadata": {},
   "outputs": [],
   "source": [
    "# function to calculate annual returns of dataframe consisting of\n",
    "# ticker symbols and adj closing prices\n",
    "def calculate_annual_returns(prices):\n",
    "    # percent changes in daily returns\n",
    "    daily_returns = prices.pct_change().dropna()\n",
    "\n",
    "    # find the average daily return then multiply by 252 (trading days in a year)\n",
    "    annual_returns = daily_returns.mean() * 252\n",
    "    return annual_returns\n",
    "\n",
    "# # testing with above price dataframe\n",
    "# annual_returns = calculate_annual_returns(prices)\n",
    "# annual_returns\n",
    "\n"
   ]
  },
  {
   "cell_type": "code",
   "execution_count": null,
   "metadata": {},
   "outputs": [],
   "source": [
    "# function to download the financial data of ticker symbols from yf\n",
    "# parameters = symbol names, start date, end date\n",
    "def download_fin_data(symbols, s_date, e_date):\n",
    "    data = []\n",
    "    for s in symbols:\n",
    "        symbol_data = yf.download(s, start=s_date, end=e_date)\n",
    "        data[s] = symbol_data['Adj Close']\n"
   ]
  }
 ],
 "metadata": {
  "kernelspec": {
   "display_name": "Python 3",
   "language": "python",
   "name": "python3"
  },
  "language_info": {
   "codemirror_mode": {
    "name": "ipython",
    "version": 3
   },
   "file_extension": ".py",
   "mimetype": "text/x-python",
   "name": "python",
   "nbconvert_exporter": "python",
   "pygments_lexer": "ipython3",
   "version": "3.11.7"
  }
 },
 "nbformat": 4,
 "nbformat_minor": 2
}
